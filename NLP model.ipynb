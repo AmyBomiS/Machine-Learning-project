{
 "cells": [
  {
   "cell_type": "markdown",
   "id": "e936ed9a",
   "metadata": {},
   "source": [
    "# 1. Import libraries"
   ]
  },
  {
   "cell_type": "code",
   "execution_count": 1,
   "id": "ba4b4b0c",
   "metadata": {},
   "outputs": [],
   "source": [
    "# Import relevant libraries.\n",
    "import nltk"
   ]
  },
  {
   "cell_type": "code",
   "execution_count": 2,
   "id": "3b75467f",
   "metadata": {},
   "outputs": [],
   "source": [
    "import pandas as pd"
   ]
  },
  {
   "cell_type": "markdown",
   "id": "66230036",
   "metadata": {},
   "source": [
    "# 2. Data Preprocessing"
   ]
  },
  {
   "cell_type": "code",
   "execution_count": 3,
   "id": "6a49a02d",
   "metadata": {},
   "outputs": [],
   "source": [
    "# Load the file\n",
    "df3= pd.read_csv('reviews.csv')"
   ]
  },
  {
   "cell_type": "code",
   "execution_count": 4,
   "id": "2b85548e",
   "metadata": {},
   "outputs": [
    {
     "data": {
      "text/html": [
       "<div>\n",
       "<style scoped>\n",
       "    .dataframe tbody tr th:only-of-type {\n",
       "        vertical-align: middle;\n",
       "    }\n",
       "\n",
       "    .dataframe tbody tr th {\n",
       "        vertical-align: top;\n",
       "    }\n",
       "\n",
       "    .dataframe thead th {\n",
       "        text-align: right;\n",
       "    }\n",
       "</style>\n",
       "<table border=\"1\" class=\"dataframe\">\n",
       "  <thead>\n",
       "    <tr style=\"text-align: right;\">\n",
       "      <th></th>\n",
       "      <th>Unnamed: 0</th>\n",
       "      <th>Clothing ID</th>\n",
       "      <th>Age</th>\n",
       "      <th>Title</th>\n",
       "      <th>Review Text</th>\n",
       "      <th>Rating</th>\n",
       "      <th>Recommended IND</th>\n",
       "      <th>Positive Feedback Count</th>\n",
       "      <th>Division Name</th>\n",
       "      <th>Department Name</th>\n",
       "      <th>Class Name</th>\n",
       "    </tr>\n",
       "  </thead>\n",
       "  <tbody>\n",
       "    <tr>\n",
       "      <th>0</th>\n",
       "      <td>0</td>\n",
       "      <td>767</td>\n",
       "      <td>33</td>\n",
       "      <td>NaN</td>\n",
       "      <td>Absolutely wonderful - silky and sexy and comf...</td>\n",
       "      <td>4</td>\n",
       "      <td>1</td>\n",
       "      <td>0</td>\n",
       "      <td>Initmates</td>\n",
       "      <td>Intimate</td>\n",
       "      <td>Intimates</td>\n",
       "    </tr>\n",
       "    <tr>\n",
       "      <th>1</th>\n",
       "      <td>1</td>\n",
       "      <td>1080</td>\n",
       "      <td>34</td>\n",
       "      <td>NaN</td>\n",
       "      <td>Love this dress!  it's sooo pretty.  i happene...</td>\n",
       "      <td>5</td>\n",
       "      <td>1</td>\n",
       "      <td>4</td>\n",
       "      <td>General</td>\n",
       "      <td>Dresses</td>\n",
       "      <td>Dresses</td>\n",
       "    </tr>\n",
       "    <tr>\n",
       "      <th>2</th>\n",
       "      <td>2</td>\n",
       "      <td>1077</td>\n",
       "      <td>60</td>\n",
       "      <td>Some major design flaws</td>\n",
       "      <td>I had such high hopes for this dress and reall...</td>\n",
       "      <td>3</td>\n",
       "      <td>0</td>\n",
       "      <td>0</td>\n",
       "      <td>General</td>\n",
       "      <td>Dresses</td>\n",
       "      <td>Dresses</td>\n",
       "    </tr>\n",
       "    <tr>\n",
       "      <th>3</th>\n",
       "      <td>3</td>\n",
       "      <td>1049</td>\n",
       "      <td>50</td>\n",
       "      <td>My favorite buy!</td>\n",
       "      <td>I love, love, love this jumpsuit. it's fun, fl...</td>\n",
       "      <td>5</td>\n",
       "      <td>1</td>\n",
       "      <td>0</td>\n",
       "      <td>General Petite</td>\n",
       "      <td>Bottoms</td>\n",
       "      <td>Pants</td>\n",
       "    </tr>\n",
       "    <tr>\n",
       "      <th>4</th>\n",
       "      <td>4</td>\n",
       "      <td>847</td>\n",
       "      <td>47</td>\n",
       "      <td>Flattering shirt</td>\n",
       "      <td>This shirt is very flattering to all due to th...</td>\n",
       "      <td>5</td>\n",
       "      <td>1</td>\n",
       "      <td>6</td>\n",
       "      <td>General</td>\n",
       "      <td>Tops</td>\n",
       "      <td>Blouses</td>\n",
       "    </tr>\n",
       "  </tbody>\n",
       "</table>\n",
       "</div>"
      ],
      "text/plain": [
       "   Unnamed: 0  Clothing ID  Age                    Title  \\\n",
       "0           0          767   33                      NaN   \n",
       "1           1         1080   34                      NaN   \n",
       "2           2         1077   60  Some major design flaws   \n",
       "3           3         1049   50         My favorite buy!   \n",
       "4           4          847   47         Flattering shirt   \n",
       "\n",
       "                                         Review Text  Rating  Recommended IND  \\\n",
       "0  Absolutely wonderful - silky and sexy and comf...       4                1   \n",
       "1  Love this dress!  it's sooo pretty.  i happene...       5                1   \n",
       "2  I had such high hopes for this dress and reall...       3                0   \n",
       "3  I love, love, love this jumpsuit. it's fun, fl...       5                1   \n",
       "4  This shirt is very flattering to all due to th...       5                1   \n",
       "\n",
       "   Positive Feedback Count   Division Name Department Name Class Name  \n",
       "0                        0       Initmates        Intimate  Intimates  \n",
       "1                        4         General         Dresses    Dresses  \n",
       "2                        0         General         Dresses    Dresses  \n",
       "3                        0  General Petite         Bottoms      Pants  \n",
       "4                        6         General            Tops    Blouses  "
      ]
     },
     "execution_count": 4,
     "metadata": {},
     "output_type": "execute_result"
    }
   ],
   "source": [
    "# Explore the columns and data\n",
    "df3.head()"
   ]
  },
  {
   "cell_type": "code",
   "execution_count": 5,
   "id": "c35c97ae",
   "metadata": {},
   "outputs": [
    {
     "data": {
      "text/plain": [
       "5    13131\n",
       "4     5077\n",
       "3     2871\n",
       "2     1565\n",
       "1      842\n",
       "Name: Rating, dtype: int64"
      ]
     },
     "execution_count": 5,
     "metadata": {},
     "output_type": "execute_result"
    }
   ],
   "source": [
    "# Identify sentiment value count- 5 is very satisified, 1 is very unsatisified. \n",
    "df3.Rating.value_counts()"
   ]
  },
  {
   "cell_type": "code",
   "execution_count": 6,
   "id": "c06776db",
   "metadata": {},
   "outputs": [
    {
     "data": {
      "image/png": "[encoded data removed]",
      "text/plain": [
       "<Figure size 640x480 with 1 Axes>"
      ]
     },
     "metadata": {},
     "output_type": "display_data"
    }
   ],
   "source": [
    "# Identify sentiment with visualization\n",
    "import matplotlib.pyplot as plt\n",
    "Rating_count = df3.groupby(df3['Rating']).count()\n",
    "plt.bar(Rating_count.index.values, Rating_count['Review Text'])\n",
    "plt.xlabel('Customer review rate')\n",
    "plt.ylabel('Number of review')\n",
    "plt.show()\n"
   ]
  },
  {
   "cell_type": "code",
   "execution_count": 7,
   "id": "7de89b66",
   "metadata": {},
   "outputs": [],
   "source": [
    "# Drop the irrelevant data/columns which is not used for text analysis \n",
    "df3.drop(['Clothing ID', 'Age','Title','Recommended IND','Positive Feedback Count','Division Name','Department Name', 'Class Name'], axis=1 , inplace= True)"
   ]
  },
  {
   "cell_type": "code",
   "execution_count": 8,
   "id": "757c6672",
   "metadata": {},
   "outputs": [],
   "source": [
    "# Drop the null data\n",
    "df3 =df3.dropna()\n"
   ]
  },
  {
   "cell_type": "code",
   "execution_count": 9,
   "id": "bc6dd013",
   "metadata": {},
   "outputs": [
    {
     "name": "stdout",
     "output_type": "stream",
     "text": [
      "<class 'pandas.core.frame.DataFrame'>\n",
      "Int64Index: 22641 entries, 0 to 23485\n",
      "Data columns (total 3 columns):\n",
      " #   Column       Non-Null Count  Dtype \n",
      "---  ------       --------------  ----- \n",
      " 0   Unnamed: 0   22641 non-null  int64 \n",
      " 1   Review Text  22641 non-null  object\n",
      " 2   Rating       22641 non-null  int64 \n",
      "dtypes: int64(2), object(1)\n",
      "memory usage: 707.5+ KB\n"
     ]
    }
   ],
   "source": [
    "#confirm if the null data and unnecessary columns are all droped.\n",
    "df3.info()"
   ]
  },
  {
   "cell_type": "code",
   "execution_count": 10,
   "id": "4a5f59e6",
   "metadata": {},
   "outputs": [
    {
     "data": {
      "text/html": [
       "<div>\n",
       "<style scoped>\n",
       "    .dataframe tbody tr th:only-of-type {\n",
       "        vertical-align: middle;\n",
       "    }\n",
       "\n",
       "    .dataframe tbody tr th {\n",
       "        vertical-align: top;\n",
       "    }\n",
       "\n",
       "    .dataframe thead th {\n",
       "        text-align: right;\n",
       "    }\n",
       "</style>\n",
       "<table border=\"1\" class=\"dataframe\">\n",
       "  <thead>\n",
       "    <tr style=\"text-align: right;\">\n",
       "      <th></th>\n",
       "      <th>Unnamed: 0</th>\n",
       "      <th>Review Text</th>\n",
       "      <th>Rating</th>\n",
       "    </tr>\n",
       "  </thead>\n",
       "  <tbody>\n",
       "    <tr>\n",
       "      <th>0</th>\n",
       "      <td>0</td>\n",
       "      <td>Absolutely wonderful - silky and sexy and comf...</td>\n",
       "      <td>4</td>\n",
       "    </tr>\n",
       "    <tr>\n",
       "      <th>1</th>\n",
       "      <td>1</td>\n",
       "      <td>Love this dress!  it's sooo pretty.  i happene...</td>\n",
       "      <td>5</td>\n",
       "    </tr>\n",
       "    <tr>\n",
       "      <th>2</th>\n",
       "      <td>2</td>\n",
       "      <td>I had such high hopes for this dress and reall...</td>\n",
       "      <td>3</td>\n",
       "    </tr>\n",
       "    <tr>\n",
       "      <th>3</th>\n",
       "      <td>3</td>\n",
       "      <td>I love, love, love this jumpsuit. it's fun, fl...</td>\n",
       "      <td>5</td>\n",
       "    </tr>\n",
       "    <tr>\n",
       "      <th>4</th>\n",
       "      <td>4</td>\n",
       "      <td>This shirt is very flattering to all due to th...</td>\n",
       "      <td>5</td>\n",
       "    </tr>\n",
       "  </tbody>\n",
       "</table>\n",
       "</div>"
      ],
      "text/plain": [
       "   Unnamed: 0                                        Review Text  Rating\n",
       "0           0  Absolutely wonderful - silky and sexy and comf...       4\n",
       "1           1  Love this dress!  it's sooo pretty.  i happene...       5\n",
       "2           2  I had such high hopes for this dress and reall...       3\n",
       "3           3  I love, love, love this jumpsuit. it's fun, fl...       5\n",
       "4           4  This shirt is very flattering to all due to th...       5"
      ]
     },
     "execution_count": 10,
     "metadata": {},
     "output_type": "execute_result"
    }
   ],
   "source": [
    "df3.head()"
   ]
  },
  {
   "cell_type": "code",
   "execution_count": 11,
   "id": "57ba3f27",
   "metadata": {},
   "outputs": [
    {
     "data": {
      "text/html": [
       "<div>\n",
       "<style scoped>\n",
       "    .dataframe tbody tr th:only-of-type {\n",
       "        vertical-align: middle;\n",
       "    }\n",
       "\n",
       "    .dataframe tbody tr th {\n",
       "        vertical-align: top;\n",
       "    }\n",
       "\n",
       "    .dataframe thead th {\n",
       "        text-align: right;\n",
       "    }\n",
       "</style>\n",
       "<table border=\"1\" class=\"dataframe\">\n",
       "  <thead>\n",
       "    <tr style=\"text-align: right;\">\n",
       "      <th></th>\n",
       "      <th>Review Text</th>\n",
       "      <th>Rating</th>\n",
       "    </tr>\n",
       "  </thead>\n",
       "  <tbody>\n",
       "    <tr>\n",
       "      <th>0</th>\n",
       "      <td>Absolutely wonderful - silky and sexy and comf...</td>\n",
       "      <td>4</td>\n",
       "    </tr>\n",
       "    <tr>\n",
       "      <th>1</th>\n",
       "      <td>Love this dress!  it's sooo pretty.  i happene...</td>\n",
       "      <td>5</td>\n",
       "    </tr>\n",
       "    <tr>\n",
       "      <th>2</th>\n",
       "      <td>I had such high hopes for this dress and reall...</td>\n",
       "      <td>3</td>\n",
       "    </tr>\n",
       "    <tr>\n",
       "      <th>3</th>\n",
       "      <td>I love, love, love this jumpsuit. it's fun, fl...</td>\n",
       "      <td>5</td>\n",
       "    </tr>\n",
       "    <tr>\n",
       "      <th>4</th>\n",
       "      <td>This shirt is very flattering to all due to th...</td>\n",
       "      <td>5</td>\n",
       "    </tr>\n",
       "    <tr>\n",
       "      <th>...</th>\n",
       "      <td>...</td>\n",
       "      <td>...</td>\n",
       "    </tr>\n",
       "    <tr>\n",
       "      <th>23481</th>\n",
       "      <td>I was very happy to snag this dress at such a ...</td>\n",
       "      <td>5</td>\n",
       "    </tr>\n",
       "    <tr>\n",
       "      <th>23482</th>\n",
       "      <td>It reminds me of maternity clothes. soft, stre...</td>\n",
       "      <td>3</td>\n",
       "    </tr>\n",
       "    <tr>\n",
       "      <th>23483</th>\n",
       "      <td>This fit well, but the top was very see throug...</td>\n",
       "      <td>3</td>\n",
       "    </tr>\n",
       "    <tr>\n",
       "      <th>23484</th>\n",
       "      <td>I bought this dress for a wedding i have this ...</td>\n",
       "      <td>3</td>\n",
       "    </tr>\n",
       "    <tr>\n",
       "      <th>23485</th>\n",
       "      <td>This dress in a lovely platinum is feminine an...</td>\n",
       "      <td>5</td>\n",
       "    </tr>\n",
       "  </tbody>\n",
       "</table>\n",
       "<p>22641 rows × 2 columns</p>\n",
       "</div>"
      ],
      "text/plain": [
       "                                             Review Text  Rating\n",
       "0      Absolutely wonderful - silky and sexy and comf...       4\n",
       "1      Love this dress!  it's sooo pretty.  i happene...       5\n",
       "2      I had such high hopes for this dress and reall...       3\n",
       "3      I love, love, love this jumpsuit. it's fun, fl...       5\n",
       "4      This shirt is very flattering to all due to th...       5\n",
       "...                                                  ...     ...\n",
       "23481  I was very happy to snag this dress at such a ...       5\n",
       "23482  It reminds me of maternity clothes. soft, stre...       3\n",
       "23483  This fit well, but the top was very see throug...       3\n",
       "23484  I bought this dress for a wedding i have this ...       3\n",
       "23485  This dress in a lovely platinum is feminine an...       5\n",
       "\n",
       "[22641 rows x 2 columns]"
      ]
     },
     "execution_count": 11,
     "metadata": {},
     "output_type": "execute_result"
    }
   ],
   "source": [
    "df3.drop(df3.columns[0], axis=1) #remove unnamed column as well to tidy up the dataset."
   ]
  },
  {
   "cell_type": "code",
   "execution_count": 12,
   "id": "22bbbc0f",
   "metadata": {},
   "outputs": [
    {
     "name": "stdout",
     "output_type": "stream",
     "text": [
      "Absolutely wonderful - silky and sexy and comfortable\n"
     ]
    }
   ],
   "source": [
    "# Print some example of the review text. \n",
    "print(df3['Review Text'] [0])"
   ]
  },
  {
   "cell_type": "code",
   "execution_count": 13,
   "id": "fd5626a3",
   "metadata": {},
   "outputs": [],
   "source": [
    "# conduct tokenization and remove stopwords\n",
    "from sklearn.feature_extraction.text import CountVectorizer\n",
    "from nltk.tokenize import RegexpTokenizer"
   ]
  },
  {
   "cell_type": "code",
   "execution_count": 14,
   "id": "eb40ad0b",
   "metadata": {},
   "outputs": [],
   "source": [
    "# Make all sentences as  a lower case words and remove stopwords. Also set ngram_range\n",
    "token = RegexpTokenizer(r'[a-zA-Z0-9]+')\n",
    "cv = CountVectorizer(lowercase = True, stop_words ='english',ngram_range = (1,2), tokenizer = token.tokenize)\n",
    "text_counts = cv.fit_transform(df3['Review Text'])              "
   ]
  },
  {
   "cell_type": "code",
   "execution_count": 15,
   "id": "81b1bf02",
   "metadata": {},
   "outputs": [],
   "source": [
    "stopwords = nltk.corpus.stopwords.words('english')"
   ]
  },
  {
   "cell_type": "markdown",
   "id": "0564d769",
   "metadata": {},
   "source": [
    "# 3. Split the data set to train and test set."
   ]
  },
  {
   "cell_type": "code",
   "execution_count": 16,
   "id": "29cb6c6b",
   "metadata": {},
   "outputs": [],
   "source": [
    "from sklearn.model_selection import train_test_split\n",
    "X_train, X_test, y_train, y_test = train_test_split(text_counts, df3 ['Rating'], test_size= 0.3, random_state=1)"
   ]
  },
  {
   "cell_type": "code",
   "execution_count": 17,
   "id": "c3d22176",
   "metadata": {},
   "outputs": [
    {
     "data": {
      "text/plain": [
       "((15848, 264732), (6793, 264732))"
      ]
     },
     "execution_count": 17,
     "metadata": {},
     "output_type": "execute_result"
    }
   ],
   "source": [
    "# Confirm the amount of the train and test set.\n",
    "X_train.shape, X_test.shape"
   ]
  },
  {
   "cell_type": "markdown",
   "id": "c7edd911",
   "metadata": {},
   "source": [
    "# 4. Modeling and evaluation"
   ]
  },
  {
   "cell_type": "code",
   "execution_count": 18,
   "id": "32481942",
   "metadata": {},
   "outputs": [],
   "source": [
    "# Test with Naive Bayes and voting essemble model (soft voting).\n",
    "# Also, using TF-IDF for feature vectorization to find better model performance."
   ]
  },
  {
   "cell_type": "markdown",
   "id": "61eb312f",
   "metadata": {},
   "source": [
    "## 1) Naive  Bayes classifier \n"
   ]
  },
  {
   "cell_type": "code",
   "execution_count": 19,
   "id": "b1cf3b6f",
   "metadata": {},
   "outputs": [
    {
     "name": "stdout",
     "output_type": "stream",
     "text": [
      "Accuracy score: 0.5854556160753717\n"
     ]
    }
   ],
   "source": [
    "# Import naive_bayes lcassifier for modeling and metrics for evaluation\n",
    "from sklearn.naive_bayes import MultinomialNB\n",
    "from sklearn import metrics\n",
    "clf = MultinomialNB().fit(X_train,y_train)\n",
    "predicted = clf.predict(X_test)\n",
    "\n",
    "print(\"Accuracy score:\", metrics.accuracy_score(y_test, predicted))"
   ]
  },
  {
   "cell_type": "markdown",
   "id": "b04bcf34",
   "metadata": {},
   "source": [
    "## 2) TF-IDF "
   ]
  },
  {
   "cell_type": "code",
   "execution_count": 20,
   "id": "aae66271",
   "metadata": {},
   "outputs": [],
   "source": [
    "# Using  TF_IDF and conduct feature generation\n",
    "from sklearn.feature_extraction.text import TfidfVectorizer\n",
    "tf= TfidfVectorizer()\n",
    "text_tf= tf.fit_transform(df3['Review Text'])"
   ]
  },
  {
   "cell_type": "code",
   "execution_count": 21,
   "id": "aa0ac519",
   "metadata": {},
   "outputs": [],
   "source": [
    "#Split the dataset to train and test set.\n",
    "from sklearn.model_selection import train_test_split\n",
    "X_train, X_test, y_train, y_test = train_test_split(\n",
    "text_tf,df3['Rating'],test_size= 0.3,random_state=123)\n"
   ]
  },
  {
   "cell_type": "code",
   "execution_count": 22,
   "id": "69f567b3",
   "metadata": {},
   "outputs": [
    {
     "name": "stdout",
     "output_type": "stream",
     "text": [
      "MultinomialNB Accuracy 0.5552774915354041\n"
     ]
    }
   ],
   "source": [
    "# Model generation using naive bayes model\n",
    "from sklearn.naive_bayes import MultinomialNB\n",
    "from sklearn import metrics\n",
    "clf = MultinomialNB().fit(X_train,y_train)\n",
    "predicted = clf.predict(X_test)\n",
    "print(\"MultinomialNB Accuracy\", metrics.accuracy_score(y_test, predicted))"
   ]
  },
  {
   "cell_type": "markdown",
   "id": "5462e575",
   "metadata": {},
   "source": [
    "## 3) Using Voting classifier to compare with Naive Bayes classifier"
   ]
  },
  {
   "cell_type": "code",
   "execution_count": 23,
   "id": "63c14ecf",
   "metadata": {},
   "outputs": [],
   "source": [
    "# Using  TF_IDF and conduct feature generation\n",
    "from sklearn.feature_extraction.text import TfidfVectorizer\n",
    "tf= TfidfVectorizer()\n",
    "text_tf= tf.fit_transform(df3['Review Text'])"
   ]
  },
  {
   "cell_type": "code",
   "execution_count": 26,
   "id": "6c33079d",
   "metadata": {},
   "outputs": [],
   "source": [
    "#Split the dataset to train and test set.\n",
    "from sklearn.model_selection import train_test_split\n",
    "X_train, X_test, y_train, y_test = train_test_split(\n",
    "text_tf,df3['Rating'],test_size= 0.3,random_state=123)"
   ]
  },
  {
   "cell_type": "code",
   "execution_count": 27,
   "id": "b6636d51",
   "metadata": {},
   "outputs": [
    {
     "name": "stdout",
     "output_type": "stream",
     "text": [
      " Voting classifier Accuracy 0.6196084204327985\n"
     ]
    }
   ],
   "source": [
    "# Model generation using ensemble model - voting classifier\n",
    "# Import relevant libraries\n",
    "from sklearn.ensemble import VotingClassifier\n",
    "from sklearn.model_selection import train_test_split\n",
    "from sklearn.linear_model import LogisticRegression\n",
    "from sklearn.neighbors import KNeighborsClassifier\n",
    "from sklearn import metrics\n",
    "\n",
    "# Using Logistic regression and KNN models for voting.\n",
    "LR = LogisticRegression(random_state=42, max_iter=1000)  #Limit the max itration as its default option causes error due to very high learning rate.\n",
    "KNN = KNeighborsClassifier(n_neighbors=8)\n",
    "\n",
    "#train and predict by model.\n",
    "vo_clf= VotingClassifier (estimators=[('LR',LR),('KNN', KNN)],voting='soft') # using soft voting\n",
    "vo_clf.fit(X_train,y_train)\n",
    "predicted = vo_clf.predict(X_test)\n",
    "\n",
    "#Evaluation.\n",
    "print(\" Voting classifier Accuracy\", metrics.accuracy_score(y_test, predicted))"
   ]
  },
  {
   "cell_type": "markdown",
   "id": "feb801e7",
   "metadata": {},
   "source": [
    "# 5. Hyperparameter tuning"
   ]
  },
  {
   "cell_type": "code",
   "execution_count": 28,
   "id": "c570a21b",
   "metadata": {},
   "outputs": [
    {
     "name": "stdout",
     "output_type": "stream",
     "text": [
      "Best hyperparameters: {'KNN__n_neighbors': 7, 'LR__C': 10.0}\n",
      "Best accuracy score: 0.6244950839809551\n"
     ]
    }
   ],
   "source": [
    "# Confirm that the voting classifier has better performance than Naive Bayes classifier.\n",
    "from sklearn.model_selection import GridSearchCV\n",
    "from sklearn.ensemble import VotingClassifier\n",
    "from sklearn.linear_model import LogisticRegression\n",
    "from sklearn.neighbors import KNeighborsClassifier\n",
    "from sklearn import metrics\n",
    "\n",
    "LR = LogisticRegression(random_state=42, max_iter=1000)\n",
    "KNN = KNeighborsClassifier()\n",
    "\n",
    "vo_clf= VotingClassifier (estimators=[('LR',LR),('KNN', KNN)],voting='soft')\n",
    "\n",
    "# Set the hyperparameter dictionary\n",
    "params = {'LR__C': [0.1, 1.0, 10.0], 'KNN__n_neighbors': [3, 5, 7],}\n",
    "\n",
    "# Create the GridSearchCV object\n",
    "grid_search = GridSearchCV(vo_clf, param_grid=params, cv=5, scoring='accuracy')\n",
    "\n",
    "# Fit the GridSearchCV object to the dataset\n",
    "grid_search.fit(X_train, y_train)\n",
    "\n",
    "#result\n",
    "print(\"Best hyperparameters:\", grid_search.best_params_)\n",
    "print(\"Best accuracy score:\", grid_search.best_score_)\n"
   ]
  },
  {
   "cell_type": "code",
   "execution_count": null,
   "id": "6e995b26",
   "metadata": {},
   "outputs": [],
   "source": []
  }
 ],
 "metadata": {
  "kernelspec": {
   "display_name": "Python 3 (ipykernel)",
   "language": "python",
   "name": "python3"
  },
  "language_info": {
   "codemirror_mode": {
    "name": "ipython",
    "version": 3
   },
   "file_extension": ".py",
   "mimetype": "text/x-python",
   "name": "python",
   "nbconvert_exporter": "python",
   "pygments_lexer": "ipython3",
   "version": "3.9.13"
  }
 },
 "nbformat": 4,
 "nbformat_minor": 5
}
